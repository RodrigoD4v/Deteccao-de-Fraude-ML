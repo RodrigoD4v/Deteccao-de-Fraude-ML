{
 "cells": [
  {
   "cell_type": "markdown",
   "id": "cfdce7ae",
   "metadata": {},
   "source": [
    "### Descrição do Problema\n",
    "As transações financeiras online cresceram exponencialmente nos últimos anos, trazendo consigo o aumento de fraudes e atividades suspeitas. Fintechs, bancos digitais e plataformas de pagamento enfrentam diariamente o desafio de identificar e bloquear transações fraudulentas em tempo real, sem impactar a experiência dos usuários legítimos.\n",
    "\n",
    "Este projeto tem como objetivo desenvolver um modelo de machine learning capaz de identificar transações potencialmente fraudulentas, utilizando um conjunto de dados realista com mais de 51.000 registros. Cada transação é rotulada como fraudulenta ou legítima e acompanhada de informações relevantes como:\n",
    "\n",
    "* Detalhes da transação: valor, tipo (saque, transferência, pagamento), horário\n",
    "\n",
    "* Perfil do usuário: histórico de fraudes, idade da conta, número de transações recentes\n",
    "\n",
    "* Contexto do dispositivo e localização: tipo de dispositivo usado e local da transação\n",
    "\n",
    "* Método de pagamento utilizado\n",
    "\n",
    "O principal desafio é ensinar o modelo a identificar padrões sutis de comportamento fraudulento, buscando o equilíbrio entre reduzir falsos positivos (evitar bloquear usuários legítimos) e aumentar a sensibilidade do modelo para capturar fraudes reais com precisão."
   ]
  },
  {
   "cell_type": "markdown",
   "id": "76a384f0",
   "metadata": {},
   "source": [
    "### Carregando Bibliotecas"
   ]
  },
  {
   "cell_type": "code",
   "execution_count": 1,
   "id": "6184188f",
   "metadata": {},
   "outputs": [],
   "source": [
    "import pandas as pd\n",
    "import matplotlib.pyplot as plt\n",
    "import seaborn as sns\n",
    "import scipy.stats as stats\n",
    "from statsmodels.stats.outliers_influence import variance_inflation_factor\n",
    "from sklearn.model_selection import train_test_split\n",
    "from sklearn.preprocessing import StandardScaler , LabelEncoder\n",
    "from sklearn.ensemble import RandomForestClassifier\n",
    "from sklearn.metrics import accuracy_score , classification_report, f1_score, precision_score, recall_score"
   ]
  },
  {
   "cell_type": "markdown",
   "id": "a929ec89",
   "metadata": {},
   "source": [
    "### Carregando o conjunto de dados"
   ]
  },
  {
   "cell_type": "code",
   "execution_count": 2,
   "id": "498644ff",
   "metadata": {},
   "outputs": [
    {
     "data": {
      "text/html": [
       "<div>\n",
       "<style scoped>\n",
       "    .dataframe tbody tr th:only-of-type {\n",
       "        vertical-align: middle;\n",
       "    }\n",
       "\n",
       "    .dataframe tbody tr th {\n",
       "        vertical-align: top;\n",
       "    }\n",
       "\n",
       "    .dataframe thead th {\n",
       "        text-align: right;\n",
       "    }\n",
       "</style>\n",
       "<table border=\"1\" class=\"dataframe\">\n",
       "  <thead>\n",
       "    <tr style=\"text-align: right;\">\n",
       "      <th></th>\n",
       "      <th>Transaction_ID</th>\n",
       "      <th>User_ID</th>\n",
       "      <th>Transaction_Amount</th>\n",
       "      <th>Transaction_Type</th>\n",
       "      <th>Time_of_Transaction</th>\n",
       "      <th>Device_Used</th>\n",
       "      <th>Location</th>\n",
       "      <th>Previous_Fraudulent_Transactions</th>\n",
       "      <th>Account_Age</th>\n",
       "      <th>Number_of_Transactions_Last_24H</th>\n",
       "      <th>Payment_Method</th>\n",
       "      <th>Fraudulent</th>\n",
       "    </tr>\n",
       "  </thead>\n",
       "  <tbody>\n",
       "    <tr>\n",
       "      <th>0</th>\n",
       "      <td>T1</td>\n",
       "      <td>4174</td>\n",
       "      <td>1292.76</td>\n",
       "      <td>ATM Withdrawal</td>\n",
       "      <td>16.0</td>\n",
       "      <td>Tablet</td>\n",
       "      <td>San Francisco</td>\n",
       "      <td>0</td>\n",
       "      <td>119</td>\n",
       "      <td>13</td>\n",
       "      <td>Debit Card</td>\n",
       "      <td>0</td>\n",
       "    </tr>\n",
       "    <tr>\n",
       "      <th>1</th>\n",
       "      <td>T2</td>\n",
       "      <td>4507</td>\n",
       "      <td>1554.58</td>\n",
       "      <td>ATM Withdrawal</td>\n",
       "      <td>13.0</td>\n",
       "      <td>Mobile</td>\n",
       "      <td>New York</td>\n",
       "      <td>4</td>\n",
       "      <td>79</td>\n",
       "      <td>3</td>\n",
       "      <td>Credit Card</td>\n",
       "      <td>0</td>\n",
       "    </tr>\n",
       "    <tr>\n",
       "      <th>2</th>\n",
       "      <td>T3</td>\n",
       "      <td>1860</td>\n",
       "      <td>2395.02</td>\n",
       "      <td>ATM Withdrawal</td>\n",
       "      <td>NaN</td>\n",
       "      <td>Mobile</td>\n",
       "      <td>NaN</td>\n",
       "      <td>3</td>\n",
       "      <td>115</td>\n",
       "      <td>9</td>\n",
       "      <td>NaN</td>\n",
       "      <td>0</td>\n",
       "    </tr>\n",
       "    <tr>\n",
       "      <th>3</th>\n",
       "      <td>T4</td>\n",
       "      <td>2294</td>\n",
       "      <td>100.10</td>\n",
       "      <td>Bill Payment</td>\n",
       "      <td>15.0</td>\n",
       "      <td>Desktop</td>\n",
       "      <td>Chicago</td>\n",
       "      <td>4</td>\n",
       "      <td>3</td>\n",
       "      <td>4</td>\n",
       "      <td>UPI</td>\n",
       "      <td>0</td>\n",
       "    </tr>\n",
       "    <tr>\n",
       "      <th>4</th>\n",
       "      <td>T5</td>\n",
       "      <td>2130</td>\n",
       "      <td>1490.50</td>\n",
       "      <td>POS Payment</td>\n",
       "      <td>19.0</td>\n",
       "      <td>Mobile</td>\n",
       "      <td>San Francisco</td>\n",
       "      <td>2</td>\n",
       "      <td>57</td>\n",
       "      <td>7</td>\n",
       "      <td>Credit Card</td>\n",
       "      <td>0</td>\n",
       "    </tr>\n",
       "  </tbody>\n",
       "</table>\n",
       "</div>"
      ],
      "text/plain": [
       "  Transaction_ID  User_ID  Transaction_Amount Transaction_Type  \\\n",
       "0             T1     4174             1292.76   ATM Withdrawal   \n",
       "1             T2     4507             1554.58   ATM Withdrawal   \n",
       "2             T3     1860             2395.02   ATM Withdrawal   \n",
       "3             T4     2294              100.10     Bill Payment   \n",
       "4             T5     2130             1490.50      POS Payment   \n",
       "\n",
       "   Time_of_Transaction Device_Used       Location  \\\n",
       "0                 16.0      Tablet  San Francisco   \n",
       "1                 13.0      Mobile       New York   \n",
       "2                  NaN      Mobile            NaN   \n",
       "3                 15.0     Desktop        Chicago   \n",
       "4                 19.0      Mobile  San Francisco   \n",
       "\n",
       "   Previous_Fraudulent_Transactions  Account_Age  \\\n",
       "0                                 0          119   \n",
       "1                                 4           79   \n",
       "2                                 3          115   \n",
       "3                                 4            3   \n",
       "4                                 2           57   \n",
       "\n",
       "   Number_of_Transactions_Last_24H Payment_Method  Fraudulent  \n",
       "0                               13     Debit Card           0  \n",
       "1                                3    Credit Card           0  \n",
       "2                                9            NaN           0  \n",
       "3                                4            UPI           0  \n",
       "4                                7    Credit Card           0  "
      ]
     },
     "execution_count": 2,
     "metadata": {},
     "output_type": "execute_result"
    }
   ],
   "source": [
    "# Carregando conjunto de dados\n",
    "df = pd.read_csv('../data/Fraud Detection Dataset.csv')\n",
    "\n",
    "# Pré-visualizando o conjunto de dados\n",
    "df.head()"
   ]
  },
  {
   "cell_type": "code",
   "execution_count": 3,
   "id": "bdbe96db",
   "metadata": {},
   "outputs": [
    {
     "data": {
      "text/plain": [
       "Transaction_ID                       object\n",
       "User_ID                               int64\n",
       "Transaction_Amount                  float64\n",
       "Transaction_Type                     object\n",
       "Time_of_Transaction                 float64\n",
       "Device_Used                          object\n",
       "Location                             object\n",
       "Previous_Fraudulent_Transactions      int64\n",
       "Account_Age                           int64\n",
       "Number_of_Transactions_Last_24H       int64\n",
       "Payment_Method                       object\n",
       "Fraudulent                            int64\n",
       "dtype: object"
      ]
     },
     "execution_count": 3,
     "metadata": {},
     "output_type": "execute_result"
    }
   ],
   "source": [
    "# Visualizando tipos de dados\n",
    "df.dtypes"
   ]
  },
  {
   "cell_type": "code",
   "execution_count": 4,
   "id": "46c7f72c",
   "metadata": {},
   "outputs": [
    {
     "name": "stdout",
     "output_type": "stream",
     "text": [
      "Visualizando quantidade de linhas do conjunto de dados: 51000\n",
      "Visualizando quantidade de colunas do conjunto de dados: 12\n"
     ]
    }
   ],
   "source": [
    "# Conhecendo o conjunto de dados\n",
    "print('Visualizando quantidade de linhas do conjunto de dados:', df.shape[0])\n",
    "print('Visualizando quantidade de colunas do conjunto de dados:', df.shape[1])"
   ]
  },
  {
   "cell_type": "markdown",
   "id": "ba4ed434",
   "metadata": {},
   "source": [
    "#### Observações\n",
    "\n",
    "* O conjunto de dados possuí um total de 51000 linhas e 12 colunas\n",
    "* O conjunto também possuí um total de 7 colunas numéricas\n",
    "* O conjunto também possuí 5 colunas object"
   ]
  },
  {
   "cell_type": "markdown",
   "id": "bbf33d89",
   "metadata": {},
   "source": [
    "### Verificando Valores Ausentes"
   ]
  },
  {
   "cell_type": "code",
   "execution_count": 5,
   "id": "657c52e4",
   "metadata": {},
   "outputs": [
    {
     "data": {
      "text/plain": [
       "Transaction_ID                         0\n",
       "User_ID                                0\n",
       "Transaction_Amount                  2520\n",
       "Transaction_Type                       0\n",
       "Time_of_Transaction                 2552\n",
       "Device_Used                         2473\n",
       "Location                            2547\n",
       "Previous_Fraudulent_Transactions       0\n",
       "Account_Age                            0\n",
       "Number_of_Transactions_Last_24H        0\n",
       "Payment_Method                      2469\n",
       "Fraudulent                             0\n",
       "dtype: int64"
      ]
     },
     "execution_count": 5,
     "metadata": {},
     "output_type": "execute_result"
    }
   ],
   "source": [
    "df.isnull().sum()"
   ]
  },
  {
   "cell_type": "code",
   "execution_count": 6,
   "id": "af4addff",
   "metadata": {},
   "outputs": [
    {
     "data": {
      "image/png": "[encoded data removed]",
      "text/plain": [
       "<Figure size 1000x600 with 1 Axes>"
      ]
     },
     "metadata": {},
     "output_type": "display_data"
    }
   ],
   "source": [
    "# Heatmap para valores ausentes\n",
    "\n",
    "# Definindo tamanho da figura\n",
    "plt.figure(figsize=(10,6))\n",
    "\n",
    "# Plotando mapa de calor para valores ausentes\n",
    "sns.heatmap(df.isnull(), cbar=False, yticklabels=False, cmap='viridis')\n",
    "\n",
    "# Ajustando os rótulos do eixo X para espaçamento uniforme\n",
    "plt.xticks(rotation = 50, ha= 'right')\n",
    "plt.tight_layout()\n",
    "\n",
    "# Exibindo gráfico\n",
    "plt.show()"
   ]
  },
  {
   "cell_type": "code",
   "execution_count": 9,
   "id": "bc281582",
   "metadata": {},
   "outputs": [
    {
     "name": "stdout",
     "output_type": "stream",
     "text": [
      "4.941176470588235\n",
      "5.003921568627451\n",
      "4.849019607843137\n",
      "4.9941176470588236\n",
      "4.841176470588236\n"
     ]
    }
   ],
   "source": [
    "# Checando os percentuais de valores ausentes\n",
    "print(df['Transaction_Amount'].isnull().sum()/df.shape[0]*100)\n",
    "print(df['Time_of_Transaction'].isnull().sum()/df.shape[0]*100)\n",
    "print(df['Device_Used'].isnull().sum()/df.shape[0]*100)\n",
    "print(df['Location'].isnull().sum()/df.shape[0]*100)\n",
    "print(df['Payment_Method'].isnull().sum()/df.shape[0]*100)"
   ]
  },
  {
   "cell_type": "markdown",
   "id": "08cb34ce",
   "metadata": {},
   "source": [
    "#### Observações\n",
    "\n",
    "* O dataframe possuí 5 colunas com valores ausentes \n",
    "* Sendo 3 colunas categóricas(Device_Used, Location, Payment_Method) e 2 numéricas(Time_of_Transaction, Transaction_Amount)\n",
    "* Como não houve uma ausêcia muito grande dos dados e são dados de registros não exclusivos farei o tratamento desses valores ausentes para as variáveis categóricas(Device_Used, Location, Payment_Method) usarei a moda e par a variáveil numérica Time_of_Transaction a moda e Transaction_Amount a mediana"
   ]
  }
 ],
 "metadata": {
  "kernelspec": {
   "display_name": "EstudoCienciasDeDados",
   "language": "python",
   "name": "python3"
  },
  "language_info": {
   "codemirror_mode": {
    "name": "ipython",
    "version": 3
   },
   "file_extension": ".py",
   "mimetype": "text/x-python",
   "name": "python",
   "nbconvert_exporter": "python",
   "pygments_lexer": "ipython3",
   "version": "3.9.19"
  }
 },
 "nbformat": 4,
 "nbformat_minor": 5
}
