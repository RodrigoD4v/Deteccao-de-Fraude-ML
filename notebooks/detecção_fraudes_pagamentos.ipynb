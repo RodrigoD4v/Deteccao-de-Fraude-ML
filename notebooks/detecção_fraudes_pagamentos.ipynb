{
 "cells": [
  {
   "cell_type": "markdown",
   "id": "cfdce7ae",
   "metadata": {},
   "source": [
    "### Descrição do Problema\n",
    "As transações financeiras online cresceram exponencialmente nos últimos anos, trazendo consigo o aumento de fraudes e atividades suspeitas. Fintechs, bancos digitais e plataformas de pagamento enfrentam diariamente o desafio de identificar e bloquear transações fraudulentas em tempo real, sem impactar a experiência dos usuários legítimos.\n",
    "\n",
    "Este projeto tem como objetivo desenvolver um modelo de machine learning capaz de identificar transações potencialmente fraudulentas, utilizando um conjunto de dados realista com mais de 51.000 registros. Cada transação é rotulada como fraudulenta ou legítima e acompanhada de informações relevantes como:\n",
    "\n",
    "* Detalhes da transação: valor, tipo (saque, transferência, pagamento), horário\n",
    "\n",
    "* Perfil do usuário: histórico de fraudes, idade da conta, número de transações recentes\n",
    "\n",
    "* Contexto do dispositivo e localização: tipo de dispositivo usado e local da transação\n",
    "\n",
    "* Método de pagamento utilizado\n",
    "\n",
    "O principal desafio é ensinar o modelo a identificar padrões sutis de comportamento fraudulento, buscando o equilíbrio entre reduzir falsos positivos (evitar bloquear usuários legítimos) e aumentar a sensibilidade do modelo para capturar fraudes reais com precisão."
   ]
  },
  {
   "cell_type": "markdown",
   "id": "76a384f0",
   "metadata": {},
   "source": [
    "### Carregando Bibliotecas"
   ]
  },
  {
   "cell_type": "code",
   "execution_count": 1,
   "id": "6184188f",
   "metadata": {},
   "outputs": [],
   "source": [
    "import pandas as pd\n",
    "import matplotlib.pyplot as plt\n",
    "import seaborn as sns\n",
    "import scipy.stats as stats\n",
    "from statsmodels.stats.outliers_influence import variance_inflation_factor\n",
    "from sklearn.model_selection import train_test_split\n",
    "from sklearn.preprocessing import StandardScaler , LabelEncoder\n",
    "from sklearn.ensemble import RandomForestClassifier\n",
    "from sklearn.metrics import accuracy_score , classification_report, f1_score, precision_score, recall_score"
   ]
  },
  {
   "cell_type": "code",
   "execution_count": null,
   "id": "498644ff",
   "metadata": {},
   "outputs": [],
   "source": []
  }
 ],
 "metadata": {
  "kernelspec": {
   "display_name": "EstudoCienciasDeDados",
   "language": "python",
   "name": "python3"
  },
  "language_info": {
   "codemirror_mode": {
    "name": "ipython",
    "version": 3
   },
   "file_extension": ".py",
   "mimetype": "text/x-python",
   "name": "python",
   "nbconvert_exporter": "python",
   "pygments_lexer": "ipython3",
   "version": "3.9.19"
  }
 },
 "nbformat": 4,
 "nbformat_minor": 5
}
